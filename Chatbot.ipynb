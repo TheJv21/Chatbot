{
  "nbformat": 4,
  "nbformat_minor": 0,
  "metadata": {
    "colab": {
      "provenance": [],
      "mount_file_id": "1ksvVIgO2QEXcAB6Oeuf8f5IR2JchwcS5",
      "authorship_tag": "ABX9TyPOp2jRi/dsn5smA3m5dUTa",
      "include_colab_link": true
    },
    "kernelspec": {
      "name": "python3",
      "display_name": "Python 3"
    },
    "language_info": {
      "name": "python"
    }
  },
  "cells": [
    {
      "cell_type": "markdown",
      "metadata": {
        "id": "view-in-github",
        "colab_type": "text"
      },
      "source": [
        "<a href=\"https://colab.research.google.com/github/TheJv21/Chatbot/blob/main/Chatbot.ipynb\" target=\"_parent\"><img src=\"https://colab.research.google.com/assets/colab-badge.svg\" alt=\"Open In Colab\"/></a>"
      ]
    },
    {
      "cell_type": "markdown",
      "source": [
        "# Training"
      ],
      "metadata": {
        "id": "ZVoTE_xYXMTm"
      }
    },
    {
      "cell_type": "code",
      "execution_count": 28,
      "metadata": {
        "id": "RkWJfhddvO6X",
        "colab": {
          "base_uri": "https://localhost:8080/"
        },
        "outputId": "7fb45107-423d-460b-8fda-e5ba391b2ca3"
      },
      "outputs": [
        {
          "output_type": "stream",
          "name": "stdout",
          "text": [
            "Requirement already satisfied: nltk in /usr/local/lib/python3.10/dist-packages (3.8.1)\n",
            "Requirement already satisfied: click in /usr/local/lib/python3.10/dist-packages (from nltk) (8.1.7)\n",
            "Requirement already satisfied: joblib in /usr/local/lib/python3.10/dist-packages (from nltk) (1.3.2)\n",
            "Requirement already satisfied: regex>=2021.8.3 in /usr/local/lib/python3.10/dist-packages (from nltk) (2023.6.3)\n",
            "Requirement already satisfied: tqdm in /usr/local/lib/python3.10/dist-packages (from nltk) (4.66.1)\n",
            "Requirement already satisfied: numpy in /usr/local/lib/python3.10/dist-packages (1.23.5)\n",
            "Requirement already satisfied: keras in /usr/local/lib/python3.10/dist-packages (2.14.0)\n"
          ]
        }
      ],
      "source": [
        "!pip install nltk\n",
        "!pip install numpy\n",
        "!pip install keras"
      ]
    },
    {
      "cell_type": "code",
      "source": [
        "import json\n",
        "import pickle\n",
        "import random\n",
        "\n",
        "import nltk\n",
        "import numpy as np\n",
        "from keras.layers import Activation, Dense, Dropout\n",
        "import tensorflow as tf\n",
        "\n",
        "\n",
        "#Para crear la red neuronal\n",
        "from keras.models import Sequential\n",
        "#from tensorflow.keras.optimizers import SGD\n",
        "from nltk.stem import WordNetLemmatizer  #Para pasar las palabras a su forma raíz"
      ],
      "metadata": {
        "id": "KU2RlfNLOScf"
      },
      "execution_count": 29,
      "outputs": []
    },
    {
      "cell_type": "code",
      "source": [
        "lemmatizer = WordNetLemmatizer()\n",
        "\n",
        "intents = json.loads(open('/content/intent.json').read())\n",
        "\n",
        "nltk.download('punkt')\n",
        "nltk.download('wordnet')\n",
        "nltk.download('omw-1.4')\n",
        "\n",
        "words = []\n",
        "classes = []\n",
        "documents = []\n",
        "ignore_letters = ['?', '!', '¿', '.', ',']"
      ],
      "metadata": {
        "colab": {
          "base_uri": "https://localhost:8080/"
        },
        "id": "dqObH2_TOfBG",
        "outputId": "287d5969-07b4-4caa-d8f3-a9fd9b112ec6"
      },
      "execution_count": 30,
      "outputs": [
        {
          "output_type": "stream",
          "name": "stderr",
          "text": [
            "[nltk_data] Downloading package punkt to /root/nltk_data...\n",
            "[nltk_data]   Package punkt is already up-to-date!\n",
            "[nltk_data] Downloading package wordnet to /root/nltk_data...\n",
            "[nltk_data]   Package wordnet is already up-to-date!\n",
            "[nltk_data] Downloading package omw-1.4 to /root/nltk_data...\n",
            "[nltk_data]   Package omw-1.4 is already up-to-date!\n"
          ]
        }
      ]
    },
    {
      "cell_type": "code",
      "source": [
        "#Clasifica los patrones y las categorías\n",
        "for intent in intents['intents']:\n",
        "    for pattern in intent['patterns']:\n",
        "        word_list = nltk.word_tokenize(pattern)\n",
        "        words.extend(word_list)\n",
        "        documents.append((word_list, intent[\"tag\"]))\n",
        "        if intent[\"tag\"] not in classes:\n",
        "            classes.append(intent[\"tag\"])\n",
        "\n",
        "words = [lemmatizer.lemmatize(word) for word in words if word not in ignore_letters]\n",
        "words = sorted(set(words))\n",
        "\n",
        "pickle.dump(words, open('words.pkl', 'wb'))\n",
        "pickle.dump(classes, open('classes.pkl', 'wb'))"
      ],
      "metadata": {
        "id": "wekCyorGTs9M"
      },
      "execution_count": 31,
      "outputs": []
    },
    {
      "cell_type": "code",
      "source": [
        "#Pasa la información a unos y ceros según las palabras presentes en cada categoría para hacer el entrenamiento\n",
        "training = []\n",
        "output_empty = [0]*len(classes)\n",
        "for document in documents:\n",
        "    bag = []\n",
        "    word_patterns = document[0]\n",
        "    word_patterns = [lemmatizer.lemmatize(word.lower()) for word in word_patterns]\n",
        "    for word in words:\n",
        "        bag.append(1) if word in word_patterns else bag.append(0)\n",
        "    output_row = list(output_empty)\n",
        "    output_row[classes.index(document[1])] = 1\n",
        "    training.append([bag, output_row])\n",
        "random.shuffle(training)\n",
        "training = np.array(training)\n",
        "print(training)"
      ],
      "metadata": {
        "id": "EBEbZyA9US96",
        "colab": {
          "base_uri": "https://localhost:8080/"
        },
        "outputId": "9bc82db0-5de1-4794-ac37-41f1219b7e5d"
      },
      "execution_count": 32,
      "outputs": [
        {
          "output_type": "stream",
          "name": "stdout",
          "text": [
            "[[list([0, 0, 1, 0, 0, 1, 0, 0, 0, 0, 0, 0, 0, 0, 0, 0, 0, 0, 0, 0, 0, 0, 0, 0, 0, 0, 0, 0, 0, 0, 0, 0, 1, 0])\n",
            "  list([0, 0, 0, 0, 1, 0])]\n",
            " [list([0, 0, 0, 1, 1, 0, 0, 1, 1, 0, 0, 0, 0, 0, 0, 0, 0, 0, 0, 0, 0, 0, 0, 0, 0, 0, 0, 0, 0, 0, 0, 0, 0, 0])\n",
            "  list([0, 0, 1, 0, 0, 0])]\n",
            " [list([0, 0, 0, 0, 0, 0, 0, 0, 0, 0, 0, 0, 0, 0, 0, 0, 1, 0, 0, 0, 0, 0, 0, 0, 0, 0, 0, 0, 0, 0, 0, 0, 0, 0])\n",
            "  list([1, 0, 0, 0, 0, 0])]\n",
            " [list([0, 0, 0, 0, 0, 0, 0, 0, 0, 0, 0, 0, 0, 0, 0, 0, 0, 0, 0, 0, 0, 0, 0, 0, 0, 0, 1, 0, 0, 0, 0, 0, 0, 0])\n",
            "  list([1, 0, 0, 0, 0, 0])]\n",
            " [list([0, 0, 0, 0, 0, 0, 0, 0, 1, 1, 0, 0, 0, 0, 0, 0, 0, 0, 1, 0, 0, 0, 0, 1, 1, 0, 0, 0, 0, 0, 0, 0, 0, 0])\n",
            "  list([0, 0, 0, 1, 0, 0])]\n",
            " [list([0, 0, 0, 0, 0, 0, 0, 0, 0, 0, 0, 0, 0, 0, 0, 0, 0, 0, 0, 0, 0, 0, 1, 0, 0, 0, 0, 0, 0, 0, 0, 0, 0, 1])\n",
            "  list([0, 0, 0, 1, 0, 0])]\n",
            " [list([0, 0, 0, 0, 0, 0, 0, 0, 0, 0, 0, 0, 0, 0, 0, 0, 0, 0, 0, 0, 0, 0, 1, 0, 0, 0, 0, 0, 0, 0, 0, 0, 0, 0])\n",
            "  list([0, 0, 0, 1, 0, 0])]\n",
            " [list([0, 0, 0, 0, 0, 0, 0, 0, 0, 0, 0, 0, 0, 0, 0, 0, 0, 0, 0, 0, 0, 0, 0, 0, 1, 0, 0, 0, 1, 0, 0, 0, 0, 0])\n",
            "  list([1, 0, 0, 0, 0, 0])]\n",
            " [list([0, 0, 0, 0, 0, 0, 0, 0, 0, 0, 0, 0, 0, 1, 0, 0, 0, 0, 0, 0, 0, 0, 0, 0, 1, 0, 0, 0, 0, 0, 1, 0, 0, 0])\n",
            "  list([0, 0, 1, 0, 0, 0])]\n",
            " [list([0, 0, 0, 0, 0, 0, 1, 1, 0, 0, 0, 0, 0, 0, 0, 0, 0, 0, 0, 0, 0, 1, 0, 0, 0, 0, 0, 0, 0, 0, 0, 1, 0, 0])\n",
            "  list([0, 1, 0, 0, 0, 0])]\n",
            " [list([0, 0, 0, 0, 0, 0, 1, 0, 0, 0, 0, 1, 0, 0, 0, 0, 0, 0, 0, 0, 0, 0, 0, 0, 0, 0, 0, 0, 0, 0, 0, 0, 0, 0])\n",
            "  list([1, 0, 0, 0, 0, 0])]\n",
            " [list([0, 0, 0, 0, 0, 0, 0, 0, 0, 0, 0, 0, 0, 0, 1, 0, 0, 0, 0, 0, 1, 0, 0, 0, 1, 0, 0, 1, 0, 0, 0, 0, 0, 0])\n",
            "  list([0, 0, 0, 0, 0, 1])]\n",
            " [list([0, 0, 0, 1, 0, 0, 0, 0, 0, 0, 0, 0, 0, 0, 0, 0, 0, 0, 0, 0, 0, 0, 0, 0, 0, 0, 0, 0, 0, 0, 0, 0, 0, 0])\n",
            "  list([0, 0, 1, 0, 0, 0])]\n",
            " [list([1, 0, 0, 0, 0, 0, 0, 0, 0, 0, 0, 0, 1, 0, 0, 0, 0, 0, 0, 0, 0, 0, 0, 0, 0, 0, 0, 0, 0, 0, 0, 0, 0, 0])\n",
            "  list([0, 0, 0, 0, 1, 0])]\n",
            " [list([0, 1, 0, 0, 0, 0, 0, 0, 0, 0, 0, 0, 0, 0, 0, 0, 0, 0, 0, 1, 0, 0, 0, 0, 0, 0, 0, 0, 0, 0, 0, 0, 0, 0])\n",
            "  list([0, 0, 0, 0, 0, 1])]\n",
            " [list([0, 0, 0, 0, 0, 0, 0, 0, 0, 0, 0, 0, 0, 0, 0, 1, 0, 0, 0, 0, 0, 0, 0, 0, 0, 1, 0, 0, 0, 0, 0, 0, 0, 0])\n",
            "  list([0, 0, 0, 0, 1, 0])]\n",
            " [list([0, 0, 0, 0, 0, 0, 0, 0, 0, 0, 1, 0, 0, 0, 0, 0, 0, 0, 0, 0, 1, 0, 0, 0, 0, 0, 0, 0, 0, 0, 0, 0, 0, 0])\n",
            "  list([0, 0, 0, 0, 0, 1])]\n",
            " [list([0, 0, 0, 0, 0, 0, 1, 0, 0, 0, 0, 0, 0, 0, 0, 0, 0, 1, 0, 0, 0, 0, 0, 0, 0, 0, 0, 0, 0, 1, 0, 0, 0, 0])\n",
            "  list([0, 1, 0, 0, 0, 0])]]\n"
          ]
        },
        {
          "output_type": "stream",
          "name": "stderr",
          "text": [
            "<ipython-input-32-9517ee53e56a>:14: VisibleDeprecationWarning: Creating an ndarray from ragged nested sequences (which is a list-or-tuple of lists-or-tuples-or ndarrays with different lengths or shapes) is deprecated. If you meant to do this, you must specify 'dtype=object' when creating the ndarray.\n",
            "  training = np.array(training)\n"
          ]
        }
      ]
    },
    {
      "cell_type": "code",
      "source": [
        "#Reparte los datos para pasarlos a la red\n",
        "train_x = list(training[:,0])\n",
        "train_y = list(training[:,1])"
      ],
      "metadata": {
        "id": "_ttsXS7vUXW0"
      },
      "execution_count": 33,
      "outputs": []
    },
    {
      "cell_type": "code",
      "source": [
        "#Creamos la red neuronal\n",
        "model = Sequential()\n",
        "model.add(Dense(128, input_shape=(len(train_x[0]),), activation='relu'))\n",
        "model.add(Dropout(0.5))\n",
        "model.add(Dense(64, activation='relu'))\n",
        "model.add(Dropout(0.5))\n",
        "model.add(Dense(len(train_y[0]), activation='softmax'))"
      ],
      "metadata": {
        "id": "OJ1oRKtKUanm"
      },
      "execution_count": 34,
      "outputs": []
    },
    {
      "cell_type": "code",
      "source": [
        "#Creamos el optimizador y lo compilamos\n",
        "sgd = tf.keras.optimizers.legacy.SGD(learning_rate=0.001, decay=1e-6, momentum=0.9, nesterov=True)\n",
        "model.compile(loss='categorical_crossentropy', optimizer = sgd, metrics = ['accuracy'])\n"
      ],
      "metadata": {
        "id": "cRz7TZJtUeXw"
      },
      "execution_count": 35,
      "outputs": []
    },
    {
      "cell_type": "code",
      "source": [
        "#Entrenamos el modelo y lo guardamos\n",
        "train_process = model.fit(np.array(train_x), np.array(train_y), epochs=100, batch_size=5, verbose=1)\n",
        "model.save(\"chatbot_model.h5\", train_process)"
      ],
      "metadata": {
        "id": "MgaeUCJEVa2w",
        "colab": {
          "base_uri": "https://localhost:8080/"
        },
        "outputId": "8c7b2a71-d170-470a-e4b7-02d729fba354"
      },
      "execution_count": 36,
      "outputs": [
        {
          "output_type": "stream",
          "name": "stdout",
          "text": [
            "Epoch 1/100\n",
            "4/4 [==============================] - 0s 3ms/step - loss: 1.7348 - accuracy: 0.1667\n",
            "Epoch 2/100\n",
            "4/4 [==============================] - 0s 3ms/step - loss: 1.8605 - accuracy: 0.1111\n",
            "Epoch 3/100\n",
            "4/4 [==============================] - 0s 2ms/step - loss: 1.8496 - accuracy: 0.2778\n",
            "Epoch 4/100\n",
            "4/4 [==============================] - 0s 2ms/step - loss: 1.7925 - accuracy: 0.2778\n",
            "Epoch 5/100\n",
            "4/4 [==============================] - 0s 3ms/step - loss: 1.7580 - accuracy: 0.2222\n",
            "Epoch 6/100\n",
            "4/4 [==============================] - 0s 3ms/step - loss: 1.7575 - accuracy: 0.3333\n",
            "Epoch 7/100\n",
            "4/4 [==============================] - 0s 2ms/step - loss: 1.8621 - accuracy: 0.1111\n",
            "Epoch 8/100\n",
            "4/4 [==============================] - 0s 2ms/step - loss: 1.7564 - accuracy: 0.2222\n",
            "Epoch 9/100\n",
            "4/4 [==============================] - 0s 2ms/step - loss: 1.8080 - accuracy: 0.1111\n",
            "Epoch 10/100\n",
            "4/4 [==============================] - 0s 3ms/step - loss: 1.7376 - accuracy: 0.1111\n",
            "Epoch 11/100\n",
            "4/4 [==============================] - 0s 3ms/step - loss: 1.7891 - accuracy: 0.2778\n",
            "Epoch 12/100\n",
            "4/4 [==============================] - 0s 2ms/step - loss: 1.6659 - accuracy: 0.3333\n",
            "Epoch 13/100\n",
            "4/4 [==============================] - 0s 2ms/step - loss: 1.7621 - accuracy: 0.2222\n",
            "Epoch 14/100\n",
            "4/4 [==============================] - 0s 3ms/step - loss: 1.8333 - accuracy: 0.2222\n",
            "Epoch 15/100\n",
            "4/4 [==============================] - 0s 3ms/step - loss: 1.8411 - accuracy: 0.1111\n",
            "Epoch 16/100\n",
            "4/4 [==============================] - 0s 2ms/step - loss: 1.6935 - accuracy: 0.1667\n",
            "Epoch 17/100\n",
            "4/4 [==============================] - 0s 10ms/step - loss: 1.7913 - accuracy: 0.1111\n",
            "Epoch 18/100\n",
            "4/4 [==============================] - 0s 5ms/step - loss: 1.8096 - accuracy: 0.1667\n",
            "Epoch 19/100\n",
            "4/4 [==============================] - 0s 3ms/step - loss: 1.7807 - accuracy: 0.2778\n",
            "Epoch 20/100\n",
            "4/4 [==============================] - 0s 4ms/step - loss: 1.6827 - accuracy: 0.3889\n",
            "Epoch 21/100\n",
            "4/4 [==============================] - 0s 4ms/step - loss: 1.7024 - accuracy: 0.3889\n",
            "Epoch 22/100\n",
            "4/4 [==============================] - 0s 4ms/step - loss: 1.6624 - accuracy: 0.2222\n",
            "Epoch 23/100\n",
            "4/4 [==============================] - 0s 4ms/step - loss: 1.7826 - accuracy: 0.1667\n",
            "Epoch 24/100\n",
            "4/4 [==============================] - 0s 4ms/step - loss: 1.6771 - accuracy: 0.5000\n",
            "Epoch 25/100\n",
            "4/4 [==============================] - 0s 4ms/step - loss: 1.7556 - accuracy: 0.2778\n",
            "Epoch 26/100\n",
            "4/4 [==============================] - 0s 3ms/step - loss: 1.7975 - accuracy: 0.0556\n",
            "Epoch 27/100\n",
            "4/4 [==============================] - 0s 3ms/step - loss: 1.6680 - accuracy: 0.3333\n",
            "Epoch 28/100\n",
            "4/4 [==============================] - 0s 3ms/step - loss: 1.7013 - accuracy: 0.4444\n",
            "Epoch 29/100\n",
            "4/4 [==============================] - 0s 3ms/step - loss: 1.7069 - accuracy: 0.2222\n",
            "Epoch 30/100\n",
            "4/4 [==============================] - 0s 3ms/step - loss: 1.6737 - accuracy: 0.5556\n",
            "Epoch 31/100\n",
            "4/4 [==============================] - 0s 3ms/step - loss: 1.5490 - accuracy: 0.6111\n",
            "Epoch 32/100\n",
            "4/4 [==============================] - 0s 4ms/step - loss: 1.7237 - accuracy: 0.2778\n",
            "Epoch 33/100\n",
            "4/4 [==============================] - 0s 4ms/step - loss: 1.6931 - accuracy: 0.2222\n",
            "Epoch 34/100\n",
            "4/4 [==============================] - 0s 4ms/step - loss: 1.7012 - accuracy: 0.3333\n",
            "Epoch 35/100\n",
            "4/4 [==============================] - 0s 3ms/step - loss: 1.6445 - accuracy: 0.3333\n",
            "Epoch 36/100\n",
            "4/4 [==============================] - 0s 4ms/step - loss: 1.6370 - accuracy: 0.3889\n",
            "Epoch 37/100\n",
            "4/4 [==============================] - 0s 4ms/step - loss: 1.6490 - accuracy: 0.2222\n",
            "Epoch 38/100\n",
            "4/4 [==============================] - 0s 4ms/step - loss: 1.7452 - accuracy: 0.2222\n",
            "Epoch 39/100\n",
            "4/4 [==============================] - 0s 4ms/step - loss: 1.6295 - accuracy: 0.2222\n",
            "Epoch 40/100\n",
            "4/4 [==============================] - 0s 6ms/step - loss: 1.6734 - accuracy: 0.2222\n",
            "Epoch 41/100\n",
            "4/4 [==============================] - 0s 4ms/step - loss: 1.6366 - accuracy: 0.2778\n",
            "Epoch 42/100\n",
            "4/4 [==============================] - 0s 3ms/step - loss: 1.5664 - accuracy: 0.5000\n",
            "Epoch 43/100\n",
            "4/4 [==============================] - 0s 3ms/step - loss: 1.5242 - accuracy: 0.5000\n",
            "Epoch 44/100\n",
            "4/4 [==============================] - 0s 3ms/step - loss: 1.5674 - accuracy: 0.2778\n",
            "Epoch 45/100\n",
            "4/4 [==============================] - 0s 3ms/step - loss: 1.5759 - accuracy: 0.4444\n",
            "Epoch 46/100\n",
            "4/4 [==============================] - 0s 3ms/step - loss: 1.5427 - accuracy: 0.5000\n",
            "Epoch 47/100\n",
            "4/4 [==============================] - 0s 3ms/step - loss: 1.5715 - accuracy: 0.5000\n",
            "Epoch 48/100\n",
            "4/4 [==============================] - 0s 2ms/step - loss: 1.5536 - accuracy: 0.4444\n",
            "Epoch 49/100\n",
            "4/4 [==============================] - 0s 3ms/step - loss: 1.6105 - accuracy: 0.3889\n",
            "Epoch 50/100\n",
            "4/4 [==============================] - 0s 3ms/step - loss: 1.5995 - accuracy: 0.3333\n",
            "Epoch 51/100\n",
            "4/4 [==============================] - 0s 3ms/step - loss: 1.5734 - accuracy: 0.5000\n",
            "Epoch 52/100\n",
            "4/4 [==============================] - 0s 4ms/step - loss: 1.5972 - accuracy: 0.6111\n",
            "Epoch 53/100\n",
            "4/4 [==============================] - 0s 3ms/step - loss: 1.5110 - accuracy: 0.5556\n",
            "Epoch 54/100\n",
            "4/4 [==============================] - 0s 3ms/step - loss: 1.5218 - accuracy: 0.5556\n",
            "Epoch 55/100\n",
            "4/4 [==============================] - 0s 3ms/step - loss: 1.6468 - accuracy: 0.2778\n",
            "Epoch 56/100\n",
            "4/4 [==============================] - 0s 3ms/step - loss: 1.5053 - accuracy: 0.6667\n",
            "Epoch 57/100\n",
            "4/4 [==============================] - 0s 3ms/step - loss: 1.4681 - accuracy: 0.6667\n",
            "Epoch 58/100\n",
            "4/4 [==============================] - 0s 3ms/step - loss: 1.6373 - accuracy: 0.3333\n",
            "Epoch 59/100\n",
            "4/4 [==============================] - 0s 3ms/step - loss: 1.6209 - accuracy: 0.3889\n",
            "Epoch 60/100\n",
            "4/4 [==============================] - 0s 3ms/step - loss: 1.5485 - accuracy: 0.5000\n",
            "Epoch 61/100\n",
            "4/4 [==============================] - 0s 2ms/step - loss: 1.4669 - accuracy: 0.5000\n",
            "Epoch 62/100\n",
            "4/4 [==============================] - 0s 2ms/step - loss: 1.4579 - accuracy: 0.5000\n",
            "Epoch 63/100\n",
            "4/4 [==============================] - 0s 3ms/step - loss: 1.4091 - accuracy: 0.6111\n",
            "Epoch 64/100\n",
            "4/4 [==============================] - 0s 3ms/step - loss: 1.5669 - accuracy: 0.4444\n",
            "Epoch 65/100\n",
            "4/4 [==============================] - 0s 3ms/step - loss: 1.4429 - accuracy: 0.7222\n",
            "Epoch 66/100\n",
            "4/4 [==============================] - 0s 3ms/step - loss: 1.5673 - accuracy: 0.3889\n",
            "Epoch 67/100\n",
            "4/4 [==============================] - 0s 3ms/step - loss: 1.4557 - accuracy: 0.6667\n",
            "Epoch 68/100\n",
            "4/4 [==============================] - 0s 2ms/step - loss: 1.5364 - accuracy: 0.4444\n",
            "Epoch 69/100\n",
            "4/4 [==============================] - 0s 3ms/step - loss: 1.4602 - accuracy: 0.6667\n",
            "Epoch 70/100\n",
            "4/4 [==============================] - 0s 3ms/step - loss: 1.3362 - accuracy: 0.6667\n",
            "Epoch 71/100\n",
            "4/4 [==============================] - 0s 3ms/step - loss: 1.4304 - accuracy: 0.8333\n",
            "Epoch 72/100\n",
            "4/4 [==============================] - 0s 3ms/step - loss: 1.4247 - accuracy: 0.5556\n",
            "Epoch 73/100\n",
            "4/4 [==============================] - 0s 3ms/step - loss: 1.5522 - accuracy: 0.4444\n",
            "Epoch 74/100\n",
            "4/4 [==============================] - 0s 3ms/step - loss: 1.6016 - accuracy: 0.2778\n",
            "Epoch 75/100\n",
            "4/4 [==============================] - 0s 3ms/step - loss: 1.3793 - accuracy: 0.6667\n",
            "Epoch 76/100\n",
            "4/4 [==============================] - 0s 3ms/step - loss: 1.5066 - accuracy: 0.5556\n",
            "Epoch 77/100\n",
            "4/4 [==============================] - 0s 3ms/step - loss: 1.4915 - accuracy: 0.5000\n",
            "Epoch 78/100\n",
            "4/4 [==============================] - 0s 3ms/step - loss: 1.5102 - accuracy: 0.6667\n",
            "Epoch 79/100\n",
            "4/4 [==============================] - 0s 4ms/step - loss: 1.5014 - accuracy: 0.5000\n",
            "Epoch 80/100\n",
            "4/4 [==============================] - 0s 3ms/step - loss: 1.3891 - accuracy: 0.7778\n",
            "Epoch 81/100\n",
            "4/4 [==============================] - 0s 4ms/step - loss: 1.4387 - accuracy: 0.5000\n",
            "Epoch 82/100\n",
            "4/4 [==============================] - 0s 3ms/step - loss: 1.5756 - accuracy: 0.5000\n",
            "Epoch 83/100\n",
            "4/4 [==============================] - 0s 3ms/step - loss: 1.4507 - accuracy: 0.5556\n",
            "Epoch 84/100\n",
            "4/4 [==============================] - 0s 4ms/step - loss: 1.4141 - accuracy: 0.6111\n",
            "Epoch 85/100\n",
            "4/4 [==============================] - 0s 3ms/step - loss: 1.3687 - accuracy: 0.6667\n",
            "Epoch 86/100\n",
            "4/4 [==============================] - 0s 3ms/step - loss: 1.4219 - accuracy: 0.5000\n",
            "Epoch 87/100\n",
            "4/4 [==============================] - 0s 3ms/step - loss: 1.3927 - accuracy: 0.5556\n",
            "Epoch 88/100\n",
            "4/4 [==============================] - 0s 3ms/step - loss: 1.4259 - accuracy: 0.5000\n",
            "Epoch 89/100\n",
            "4/4 [==============================] - 0s 3ms/step - loss: 1.3247 - accuracy: 0.6667\n",
            "Epoch 90/100\n",
            "4/4 [==============================] - 0s 2ms/step - loss: 1.3369 - accuracy: 0.7222\n",
            "Epoch 91/100\n",
            "4/4 [==============================] - 0s 3ms/step - loss: 1.3065 - accuracy: 0.7222\n",
            "Epoch 92/100\n",
            "4/4 [==============================] - 0s 2ms/step - loss: 1.3696 - accuracy: 0.6111\n",
            "Epoch 93/100\n",
            "4/4 [==============================] - 0s 2ms/step - loss: 1.2563 - accuracy: 0.7222\n",
            "Epoch 94/100\n",
            "4/4 [==============================] - 0s 3ms/step - loss: 1.4352 - accuracy: 0.5000\n",
            "Epoch 95/100\n",
            "4/4 [==============================] - 0s 3ms/step - loss: 1.2791 - accuracy: 0.7222\n",
            "Epoch 96/100\n",
            "4/4 [==============================] - 0s 4ms/step - loss: 1.3730 - accuracy: 0.6667\n",
            "Epoch 97/100\n",
            "4/4 [==============================] - 0s 5ms/step - loss: 1.2372 - accuracy: 0.7222\n",
            "Epoch 98/100\n",
            "4/4 [==============================] - 0s 5ms/step - loss: 1.3288 - accuracy: 0.7222\n",
            "Epoch 99/100\n",
            "4/4 [==============================] - 0s 5ms/step - loss: 1.2640 - accuracy: 0.6667\n",
            "Epoch 100/100\n",
            "4/4 [==============================] - 0s 4ms/step - loss: 1.2063 - accuracy: 0.7778\n"
          ]
        },
        {
          "output_type": "stream",
          "name": "stderr",
          "text": [
            "/usr/local/lib/python3.10/dist-packages/keras/src/engine/training.py:3079: UserWarning: You are saving your model as an HDF5 file via `model.save()`. This file format is considered legacy. We recommend using instead the native Keras format, e.g. `model.save('my_model.keras')`.\n",
            "  saving_api.save_model(\n"
          ]
        }
      ]
    },
    {
      "cell_type": "markdown",
      "source": [
        "# Chatbot"
      ],
      "metadata": {
        "id": "TyQhDJcIWGoh"
      }
    },
    {
      "cell_type": "code",
      "source": [
        "import random\n",
        "import json\n",
        "import pickle\n",
        "import numpy as np\n",
        "\n",
        "import nltk\n",
        "from nltk.stem import WordNetLemmatizer\n",
        "\n",
        "from keras.models import load_model\n",
        "\n",
        "lemmatizer = WordNetLemmatizer()"
      ],
      "metadata": {
        "id": "N2pxsUeeWKnY"
      },
      "execution_count": 37,
      "outputs": []
    },
    {
      "cell_type": "code",
      "source": [
        "#Importamos los archivos generados en el código anterior\n",
        "intents = json.loads(open('/content/intent.json').read())\n",
        "words = pickle.load(open('words.pkl', 'rb'))\n",
        "classes = pickle.load(open('classes.pkl', 'rb'))\n",
        "model = load_model('chatbot_model.h5')"
      ],
      "metadata": {
        "id": "cLXJfgl5Wmqp"
      },
      "execution_count": 38,
      "outputs": []
    },
    {
      "cell_type": "code",
      "source": [
        "#Pasamos las palabras de oración a su forma raíz\n",
        "def clean_up_sentence(sentence):\n",
        "    sentence_words = nltk.word_tokenize(sentence)\n",
        "    sentence_words = [lemmatizer.lemmatize(word) for word in sentence_words]\n",
        "    return sentence_words"
      ],
      "metadata": {
        "id": "AnBhDP9aWt_c"
      },
      "execution_count": 39,
      "outputs": []
    },
    {
      "cell_type": "code",
      "source": [
        "#Convertimos la información a unos y ceros según si están presentes en los patrones\n",
        "def bag_of_words(sentence):\n",
        "    sentence_words = clean_up_sentence(sentence)\n",
        "    bag = [0]*len(words)\n",
        "    for w in sentence_words:\n",
        "        for i, word in enumerate(words):\n",
        "            if word == w:\n",
        "                bag[i]=1\n",
        "    print(bag)\n",
        "    return np.array(bag)"
      ],
      "metadata": {
        "id": "ahvXz6BUWwPK"
      },
      "execution_count": 40,
      "outputs": []
    },
    {
      "cell_type": "code",
      "source": [
        "#Predecimos la categoría a la que pertenece la oración\n",
        "def predict_class(sentence):\n",
        "    bow = bag_of_words(sentence)\n",
        "    res = model.predict(np.array([bow]))[0]\n",
        "    max_index = np.where(res ==np.max(res))[0][0]\n",
        "    category = classes[max_index]\n",
        "    return category"
      ],
      "metadata": {
        "id": "URaY9b2PWyvg"
      },
      "execution_count": 41,
      "outputs": []
    },
    {
      "cell_type": "code",
      "source": [
        "#Obtenemos una respuesta aleatoria\n",
        "def get_response(tag, intents_json):\n",
        "    list_of_intents = intents_json['intents']\n",
        "    result = \"\"\n",
        "    for i in list_of_intents:\n",
        "        if i[\"tag\"]==tag:\n",
        "            result = random.choice(i['responses'])\n",
        "            break\n",
        "    return result"
      ],
      "metadata": {
        "id": "4eA2IVtFW0ue"
      },
      "execution_count": 42,
      "outputs": []
    },
    {
      "cell_type": "code",
      "source": [
        "#Ejecutamos el chat en bucle\n",
        "contador = 0\n",
        "while contador==0:\n",
        "    contador+=1\n",
        "    message=input(\"\")\n",
        "    ints = predict_class(message)\n",
        "    res = get_response(ints, intents)\n",
        "    print(res)"
      ],
      "metadata": {
        "colab": {
          "base_uri": "https://localhost:8080/"
        },
        "id": "MEaolCTZW2am",
        "outputId": "8e7d7e29-bff4-4937-e50f-04a6a6218982"
      },
      "execution_count": 45,
      "outputs": [
        {
          "output_type": "stream",
          "name": "stdout",
          "text": [
            "algo gracioso\n",
            "[1, 0, 0, 0, 0, 0, 0, 0, 0, 0, 0, 0, 1, 0, 0, 0, 0, 0, 0, 0, 0, 0, 0, 0, 0, 0, 0, 0, 0, 0, 0, 0, 0, 0]\n",
            "1/1 [==============================] - 0s 19ms/step\n",
            "¿Por qué el camarero fue despedido? Porque siempre se equivocaba con los pedidos. Una vez, le preguntó a un cliente si quería un café y el cliente le dijo que sí. El camarero le preguntó qué tamaño quería y el cliente le dijo que grande. El camarero le preguntó si quería azúcar y el cliente le dijo que sí. El camarero le preguntó si quería leche y el cliente le dijo que sí. El camarero le preguntó si quería nata y el cliente le dijo que sí. El camarero le preguntó si quería una cuchara y el cliente le dijo que sí. El camarero le preguntó si quería un vaso y el cliente le dijo que sí. El camarero le preguntó si quería una servilleta y el cliente le dijo que sí. El camarero le preguntó si quería un plato y el cliente le dijo que sí. El camarero le preguntó si quería una mesa y el cliente le dijo que sí. El camarero le preguntó si quería una silla y el cliente le dijo que sí. El camarero le preguntó si quería un restaurante y el cliente le dijo que sí. El camarero le preguntó si quería un camarero y el cliente le dijo que no.\n"
          ]
        }
      ]
    }
  ]
}